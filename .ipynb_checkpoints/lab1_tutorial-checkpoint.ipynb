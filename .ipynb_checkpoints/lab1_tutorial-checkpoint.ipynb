{
 "cells": [
  {
   "cell_type": "markdown",
   "metadata": {
    "slideshow": {
     "slide_type": "slide"
    }
   },
   "source": [
    "Tutorial 1: Basic of Single & Multi-Table SQL\n",
    "======================"
   ]
  },
  {
   "cell_type": "markdown",
   "metadata": {},
   "source": [
    "Some parts of this notebook are adapted from material by Theodoros Rekatsinas (Apple)"
   ]
  },
  {
   "cell_type": "code",
   "execution_count": 1,
   "metadata": {
    "slideshow": {
     "slide_type": "slide"
    }
   },
   "outputs": [],
   "source": [
    "%load_ext sql"
   ]
  },
  {
   "cell_type": "code",
   "execution_count": 2,
   "metadata": {},
   "outputs": [],
   "source": [
    "%sql postgresql://postgres:postgres@db:5432/postgres\n"
   ]
  },
  {
   "cell_type": "markdown",
   "metadata": {
    "slideshow": {
     "slide_type": "slide"
    }
   },
   "source": [
    "Let's create a table, stuff it with data, and query it!"
   ]
  },
  {
   "cell_type": "code",
   "execution_count": 6,
   "metadata": {
    "slideshow": {
     "slide_type": "fragment"
    }
   },
   "outputs": [
    {
     "name": "stdout",
     "output_type": "stream",
     "text": [
      " * postgresql://postgres:***@db:5432/postgres\n",
      "Done.\n",
      "Done.\n",
      "1 rows affected.\n",
      "1 rows affected.\n",
      "1 rows affected.\n",
      "1 rows affected.\n"
     ]
    },
    {
     "data": {
      "text/plain": [
       "[]"
      ]
     },
     "execution_count": 6,
     "metadata": {},
     "output_type": "execute_result"
    }
   ],
   "source": [
    "%%sql drop table if exists product cascade;\n",
    "create table product(\n",
    "       pname        varchar primary key, -- name of the product\n",
    "       price        decimal(10,2),               -- price of the product\n",
    "       category     varchar,             -- category\n",
    "       manufacturer varchar NOT NULL     -- manufacturer\n",
    ");\n",
    "insert into product values('Gizmo', 19.99, 'Gadgets', 'GizmoWorks');\n",
    "insert into product values('PowerGizmo', 29.99, 'Gadgets', 'GizmoWorks');\n",
    "insert into product values('SingleTouch', 149.99, 'Photography', 'Canon');\n",
    "insert into product values('MultiTouch', 203.99, 'Household', 'Hitachi');"
   ]
  },
  {
   "cell_type": "markdown",
   "metadata": {
    "slideshow": {
     "slide_type": "slide"
    }
   },
   "source": [
    "Let's look at the products.."
   ]
  },
  {
   "cell_type": "code",
   "execution_count": 7,
   "metadata": {
    "slideshow": {
     "slide_type": "fragment"
    }
   },
   "outputs": [
    {
     "name": "stdout",
     "output_type": "stream",
     "text": [
      " * postgresql://postgres:***@db:5432/postgres\n",
      "4 rows affected.\n"
     ]
    },
    {
     "data": {
      "text/html": [
       "<table>\n",
       "    <thead>\n",
       "        <tr>\n",
       "            <th>pname</th>\n",
       "            <th>price</th>\n",
       "            <th>category</th>\n",
       "            <th>manufacturer</th>\n",
       "        </tr>\n",
       "    </thead>\n",
       "    <tbody>\n",
       "        <tr>\n",
       "            <td>Gizmo</td>\n",
       "            <td>19.99</td>\n",
       "            <td>Gadgets</td>\n",
       "            <td>GizmoWorks</td>\n",
       "        </tr>\n",
       "        <tr>\n",
       "            <td>PowerGizmo</td>\n",
       "            <td>29.99</td>\n",
       "            <td>Gadgets</td>\n",
       "            <td>GizmoWorks</td>\n",
       "        </tr>\n",
       "        <tr>\n",
       "            <td>SingleTouch</td>\n",
       "            <td>149.99</td>\n",
       "            <td>Photography</td>\n",
       "            <td>Canon</td>\n",
       "        </tr>\n",
       "        <tr>\n",
       "            <td>MultiTouch</td>\n",
       "            <td>203.99</td>\n",
       "            <td>Household</td>\n",
       "            <td>Hitachi</td>\n",
       "        </tr>\n",
       "    </tbody>\n",
       "</table>"
      ],
      "text/plain": [
       "[('Gizmo', Decimal('19.99'), 'Gadgets', 'GizmoWorks'),\n",
       " ('PowerGizmo', Decimal('29.99'), 'Gadgets', 'GizmoWorks'),\n",
       " ('SingleTouch', Decimal('149.99'), 'Photography', 'Canon'),\n",
       " ('MultiTouch', Decimal('203.99'), 'Household', 'Hitachi')]"
      ]
     },
     "execution_count": 7,
     "metadata": {},
     "output_type": "execute_result"
    }
   ],
   "source": [
    "%sql select * from product;"
   ]
  },
  {
   "cell_type": "markdown",
   "metadata": {
    "slideshow": {
     "slide_type": "slide"
    }
   },
   "source": [
    "Some *terminology* for SQL.\n",
    "--------------------------\n",
    "* The _name_ of the table is product.\n",
    "* Each row of the table is called a _row_ or a _tuple_. \n",
    "* Notice all tuples have the fields or _attributes_.\n",
    "* The number of rows is called the _cardinality_ while the number of attributes is called the _arity_"
   ]
  },
  {
   "cell_type": "markdown",
   "metadata": {
    "slideshow": {
     "slide_type": "subslide"
    }
   },
   "source": [
    "Schema Conventions\n",
    "-----------------\n",
    "* The schema of product is written as follows:\n",
    "\n",
    "> product(<u>pname</u>, price, category, manufacturer)\n",
    "\n",
    "Underlining a set of attributes indicates that they form a _key_.\n",
    "\n",
    "* In this case, pname is a key. If the product name was only unique for a given manufacturer, we'd write:\n",
    "\n",
    "> product(<u>pname</u>, price, category, <u>manufacturer</u>)\n"
   ]
  },
  {
   "cell_type": "markdown",
   "metadata": {
    "slideshow": {
     "slide_type": "subslide"
    }
   },
   "source": [
    "Tables Explained\n",
    "----------------\n",
    "* A tuple = a record\n",
    "  * Restriction: all attributes are of atomic type\n",
    "  * There are many atomic data types in SQL engines, look [here](http://www.postgresql.org/docs/9.4/static/datatype.html) for example.\n",
    "\n",
    "\n",
    "* A table = a (multi)-set of tuples\n",
    "  * A multiset is like a list…\n",
    "  * ... but a mutiset is unordered: \n",
    "    * no first(), no next(), no last()."
   ]
  },
  {
   "cell_type": "markdown",
   "metadata": {
    "slideshow": {
     "slide_type": "subslide"
    }
   },
   "source": [
    "# Outline\n",
    "* Create a database -- done!\n",
    "\n",
    "* Simple querying -- now!\n",
    "\n",
    "* Queries with more than one relation -- next!\n"
   ]
  },
  {
   "cell_type": "markdown",
   "metadata": {
    "slideshow": {
     "slide_type": "slide"
    }
   },
   "source": [
    "# Let the (Simple) querying begin! \n",
    "* We'll introduce the basics of SQL by example.\n",
    "* There are many good SQL tutorials on the web, this is intended to get you started."
   ]
  },
  {
   "cell_type": "markdown",
   "metadata": {
    "slideshow": {
     "slide_type": "slide"
    }
   },
   "source": [
    "> SELECT (attributes)<br>\n",
    "> FROM (one or more tables)<br>\n",
    "> WHERE (conditions)\n",
    "\n",
    "This is the simple SELECT-FROM-WHERE (SFW) block. Let's see some examples!"
   ]
  },
  {
   "cell_type": "code",
   "execution_count": 8,
   "metadata": {
    "slideshow": {
     "slide_type": "subslide"
    }
   },
   "outputs": [
    {
     "name": "stdout",
     "output_type": "stream",
     "text": [
      " * postgresql://postgres:***@db:5432/postgres\n",
      "1 rows affected.\n"
     ]
    },
    {
     "data": {
      "text/html": [
       "<table>\n",
       "    <thead>\n",
       "        <tr>\n",
       "            <th>pname</th>\n",
       "            <th>price</th>\n",
       "            <th>category</th>\n",
       "            <th>manufacturer</th>\n",
       "        </tr>\n",
       "    </thead>\n",
       "    <tbody>\n",
       "        <tr>\n",
       "            <td>PowerGizmo</td>\n",
       "            <td>29.99</td>\n",
       "            <td>Gadgets</td>\n",
       "            <td>GizmoWorks</td>\n",
       "        </tr>\n",
       "    </tbody>\n",
       "</table>"
      ],
      "text/plain": [
       "[('PowerGizmo', Decimal('29.99'), 'Gadgets', 'GizmoWorks')]"
      ]
     },
     "execution_count": 8,
     "metadata": {},
     "output_type": "execute_result"
    }
   ],
   "source": [
    "%%sql\n",
    "SELECT * from Product \n",
    "WHERE category='Gadgets' and price > 20.0;"
   ]
  },
  {
   "cell_type": "markdown",
   "metadata": {
    "slideshow": {
     "slide_type": "slide"
    }
   },
   "source": [
    "Let's give an example of *projection*, i.e., we only retain some attributes from the query. "
   ]
  },
  {
   "cell_type": "code",
   "execution_count": 9,
   "metadata": {
    "slideshow": {
     "slide_type": "fragment"
    }
   },
   "outputs": [
    {
     "name": "stdout",
     "output_type": "stream",
     "text": [
      " * postgresql://postgres:***@db:5432/postgres\n",
      "4 rows affected.\n"
     ]
    },
    {
     "data": {
      "text/html": [
       "<table>\n",
       "    <thead>\n",
       "        <tr>\n",
       "            <th>pname</th>\n",
       "            <th>price</th>\n",
       "            <th>manufacturer</th>\n",
       "        </tr>\n",
       "    </thead>\n",
       "    <tbody>\n",
       "        <tr>\n",
       "            <td>Gizmo</td>\n",
       "            <td>19.99</td>\n",
       "            <td>GizmoWorks</td>\n",
       "        </tr>\n",
       "        <tr>\n",
       "            <td>PowerGizmo</td>\n",
       "            <td>29.99</td>\n",
       "            <td>GizmoWorks</td>\n",
       "        </tr>\n",
       "        <tr>\n",
       "            <td>SingleTouch</td>\n",
       "            <td>149.99</td>\n",
       "            <td>Canon</td>\n",
       "        </tr>\n",
       "        <tr>\n",
       "            <td>MultiTouch</td>\n",
       "            <td>203.99</td>\n",
       "            <td>Hitachi</td>\n",
       "        </tr>\n",
       "    </tbody>\n",
       "</table>"
      ],
      "text/plain": [
       "[('Gizmo', Decimal('19.99'), 'GizmoWorks'),\n",
       " ('PowerGizmo', Decimal('29.99'), 'GizmoWorks'),\n",
       " ('SingleTouch', Decimal('149.99'), 'Canon'),\n",
       " ('MultiTouch', Decimal('203.99'), 'Hitachi')]"
      ]
     },
     "execution_count": 9,
     "metadata": {},
     "output_type": "execute_result"
    }
   ],
   "source": [
    "%%sql \n",
    "SELECT Pname, Price, Manufacturer\n",
    "FROM Product;"
   ]
  },
  {
   "cell_type": "markdown",
   "metadata": {
    "slideshow": {
     "slide_type": "subslide"
    }
   },
   "source": [
    "* The output is *still* a table, and its schema is \n",
    "> Answer(pname, price, manufacturer)"
   ]
  },
  {
   "cell_type": "markdown",
   "metadata": {
    "slideshow": {
     "slide_type": "slide"
    }
   },
   "source": [
    "* Of course, we can combine selection and projection."
   ]
  },
  {
   "cell_type": "code",
   "execution_count": 10,
   "metadata": {
    "slideshow": {
     "slide_type": "fragment"
    }
   },
   "outputs": [
    {
     "name": "stdout",
     "output_type": "stream",
     "text": [
      " * postgresql://postgres:***@db:5432/postgres\n",
      "2 rows affected.\n"
     ]
    },
    {
     "data": {
      "text/html": [
       "<table>\n",
       "    <thead>\n",
       "        <tr>\n",
       "            <th>pname</th>\n",
       "            <th>price</th>\n",
       "            <th>manufacturer</th>\n",
       "        </tr>\n",
       "    </thead>\n",
       "    <tbody>\n",
       "        <tr>\n",
       "            <td>Gizmo</td>\n",
       "            <td>19.99</td>\n",
       "            <td>GizmoWorks</td>\n",
       "        </tr>\n",
       "        <tr>\n",
       "            <td>PowerGizmo</td>\n",
       "            <td>29.99</td>\n",
       "            <td>GizmoWorks</td>\n",
       "        </tr>\n",
       "    </tbody>\n",
       "</table>"
      ],
      "text/plain": [
       "[('Gizmo', Decimal('19.99'), 'GizmoWorks'),\n",
       " ('PowerGizmo', Decimal('29.99'), 'GizmoWorks')]"
      ]
     },
     "execution_count": 10,
     "metadata": {},
     "output_type": "execute_result"
    }
   ],
   "source": [
    "%%sql\n",
    "SELECT Pname, Price, Manufacturer\n",
    "FROM Product\n",
    "WHERE category='Gadgets';"
   ]
  },
  {
   "cell_type": "markdown",
   "metadata": {
    "slideshow": {
     "slide_type": "slide"
    }
   },
   "source": [
    "The output of a query on a table is again a table \n",
    "----------------------------------------------\n",
    "* This is because the query language is *compositional*\n",
    "* The output of a query really is a table!\n",
    "* look at this crazy query, what does it ask for?"
   ]
  },
  {
   "cell_type": "code",
   "execution_count": 11,
   "metadata": {
    "slideshow": {
     "slide_type": "subslide"
    }
   },
   "outputs": [
    {
     "name": "stdout",
     "output_type": "stream",
     "text": [
      " * postgresql://postgres:***@db:5432/postgres\n",
      "4 rows affected.\n",
      "1 rows affected.\n"
     ]
    },
    {
     "data": {
      "text/html": [
       "<table>\n",
       "    <thead>\n",
       "        <tr>\n",
       "            <th>manufacturer</th>\n",
       "            <th>pname</th>\n",
       "            <th>price</th>\n",
       "        </tr>\n",
       "    </thead>\n",
       "    <tbody>\n",
       "        <tr>\n",
       "            <td>GizmoWorks</td>\n",
       "            <td>PowerGizmo</td>\n",
       "            <td>29.99</td>\n",
       "        </tr>\n",
       "    </tbody>\n",
       "</table>"
      ],
      "text/plain": [
       "[('GizmoWorks', 'PowerGizmo', Decimal('29.99'))]"
      ]
     },
     "execution_count": 11,
     "metadata": {},
     "output_type": "execute_result"
    }
   ],
   "source": [
    "%%sql\n",
    "SELECT * FROM Product;\n",
    "\n",
    "SELECT\n",
    "    p.manufacturer, p.pname, p.price\n",
    "FROM \n",
    "    (SELECT distinct p0.Manufacturer\n",
    "     FROM Product p0\n",
    "     WHERE p0.price < 20.00) cp, -- this is a nested query!\n",
    "    Product p\n",
    "WHERE \n",
    "    p.manufacturer = cp.manufacturer and p.price::numeric > 20.00"
   ]
  },
  {
   "cell_type": "markdown",
   "metadata": {
    "slideshow": {
     "slide_type": "slide"
    }
   },
   "source": [
    "Details on SQL\n",
    "--------------\n",
    "\n",
    "* Some elements are case insensitive (think: program):\n",
    "  * Same: SELECT  Select  select\n",
    "  * Same: Product   product\n",
    "  * Different: ‘Seattle’  ‘seattle’\n",
    "  \n",
    "\n",
    "* Constants (single quotes)\n",
    "  * ‘abc’  - yes\n",
    "  * “abc” - no\n"
   ]
  },
  {
   "cell_type": "markdown",
   "metadata": {
    "slideshow": {
     "slide_type": "slide"
    }
   },
   "source": [
    "LIKE\n",
    "====\n",
    "\n",
    "The LIKE operator is to search strings, perhaps with wildcards. Format is:\n",
    "    \n",
    "> SELECT *\n",
    "> FROM Products\n",
    "> WHERE pname like '%gizmo%'\n",
    "\n",
    "* % matches any number of characters\n",
    "* \\_ matches one character\n",
    "* The like operator is case sensitive\n"
   ]
  },
  {
   "cell_type": "code",
   "execution_count": 12,
   "metadata": {
    "slideshow": {
     "slide_type": "slide"
    }
   },
   "outputs": [
    {
     "name": "stdout",
     "output_type": "stream",
     "text": [
      " * postgresql://postgres:***@db:5432/postgres\n",
      "2 rows affected.\n"
     ]
    },
    {
     "data": {
      "text/html": [
       "<table>\n",
       "    <thead>\n",
       "        <tr>\n",
       "            <th>pname</th>\n",
       "            <th>price</th>\n",
       "            <th>category</th>\n",
       "            <th>manufacturer</th>\n",
       "        </tr>\n",
       "    </thead>\n",
       "    <tbody>\n",
       "        <tr>\n",
       "            <td>Gizmo</td>\n",
       "            <td>19.99</td>\n",
       "            <td>Gadgets</td>\n",
       "            <td>GizmoWorks</td>\n",
       "        </tr>\n",
       "        <tr>\n",
       "            <td>PowerGizmo</td>\n",
       "            <td>29.99</td>\n",
       "            <td>Gadgets</td>\n",
       "            <td>GizmoWorks</td>\n",
       "        </tr>\n",
       "    </tbody>\n",
       "</table>"
      ],
      "text/plain": [
       "[('Gizmo', Decimal('19.99'), 'Gadgets', 'GizmoWorks'),\n",
       " ('PowerGizmo', Decimal('29.99'), 'Gadgets', 'GizmoWorks')]"
      ]
     },
     "execution_count": 12,
     "metadata": {},
     "output_type": "execute_result"
    }
   ],
   "source": [
    "%%sql\n",
    "SELECT *  FROM product\n",
    "where pname LIKE '%Gizmo%'"
   ]
  },
  {
   "cell_type": "markdown",
   "metadata": {
    "slideshow": {
     "slide_type": "slide"
    }
   },
   "source": [
    "Eliminating Duplicates\n",
    "---------------------\n",
    "* duplicates can sometimes be unwelcome or suprising. \n",
    "  * Recall tables are _multisets_!"
   ]
  },
  {
   "cell_type": "code",
   "execution_count": 13,
   "metadata": {
    "slideshow": {
     "slide_type": "subslide"
    }
   },
   "outputs": [
    {
     "name": "stdout",
     "output_type": "stream",
     "text": [
      " * postgresql://postgres:***@db:5432/postgres\n",
      "4 rows affected.\n"
     ]
    },
    {
     "data": {
      "text/html": [
       "<table>\n",
       "    <thead>\n",
       "        <tr>\n",
       "            <th>category</th>\n",
       "        </tr>\n",
       "    </thead>\n",
       "    <tbody>\n",
       "        <tr>\n",
       "            <td>Gadgets</td>\n",
       "        </tr>\n",
       "        <tr>\n",
       "            <td>Gadgets</td>\n",
       "        </tr>\n",
       "        <tr>\n",
       "            <td>Photography</td>\n",
       "        </tr>\n",
       "        <tr>\n",
       "            <td>Household</td>\n",
       "        </tr>\n",
       "    </tbody>\n",
       "</table>"
      ],
      "text/plain": [
       "[('Gadgets',), ('Gadgets',), ('Photography',), ('Household',)]"
      ]
     },
     "execution_count": 13,
     "metadata": {},
     "output_type": "execute_result"
    }
   ],
   "source": [
    "%sql SELECT category from product;"
   ]
  },
  {
   "cell_type": "code",
   "execution_count": 14,
   "metadata": {
    "slideshow": {
     "slide_type": "subslide"
    }
   },
   "outputs": [
    {
     "name": "stdout",
     "output_type": "stream",
     "text": [
      " * postgresql://postgres:***@db:5432/postgres\n",
      "3 rows affected.\n"
     ]
    },
    {
     "data": {
      "text/html": [
       "<table>\n",
       "    <thead>\n",
       "        <tr>\n",
       "            <th>category</th>\n",
       "        </tr>\n",
       "    </thead>\n",
       "    <tbody>\n",
       "        <tr>\n",
       "            <td>Gadgets</td>\n",
       "        </tr>\n",
       "        <tr>\n",
       "            <td>Photography</td>\n",
       "        </tr>\n",
       "        <tr>\n",
       "            <td>Household</td>\n",
       "        </tr>\n",
       "    </tbody>\n",
       "</table>"
      ],
      "text/plain": [
       "[('Gadgets',), ('Photography',), ('Household',)]"
      ]
     },
     "execution_count": 14,
     "metadata": {},
     "output_type": "execute_result"
    }
   ],
   "source": [
    "%%sql \n",
    "-- easy to remove duplicates, use the distinct keyword\n",
    "SELECT DISTINCT category from product;"
   ]
  },
  {
   "cell_type": "markdown",
   "metadata": {
    "slideshow": {
     "slide_type": "slide"
    }
   },
   "source": [
    "Ordering the results\n",
    "---------------------\n",
    "* Sometimes you want the results ordered, let's see some examples!\n"
   ]
  },
  {
   "cell_type": "code",
   "execution_count": 16,
   "metadata": {
    "slideshow": {
     "slide_type": "subslide"
    }
   },
   "outputs": [
    {
     "name": "stdout",
     "output_type": "stream",
     "text": [
      " * postgresql://postgres:***@db:5432/postgres\n",
      "2 rows affected.\n"
     ]
    },
    {
     "data": {
      "text/html": [
       "<table>\n",
       "    <thead>\n",
       "        <tr>\n",
       "            <th>pname</th>\n",
       "            <th>price</th>\n",
       "            <th>manufacturer</th>\n",
       "        </tr>\n",
       "    </thead>\n",
       "    <tbody>\n",
       "        <tr>\n",
       "            <td>SingleTouch</td>\n",
       "            <td>149.99</td>\n",
       "            <td>Canon</td>\n",
       "        </tr>\n",
       "        <tr>\n",
       "            <td>MultiTouch</td>\n",
       "            <td>203.99</td>\n",
       "            <td>Hitachi</td>\n",
       "        </tr>\n",
       "    </tbody>\n",
       "</table>"
      ],
      "text/plain": [
       "[('SingleTouch', Decimal('149.99'), 'Canon'),\n",
       " ('MultiTouch', Decimal('203.99'), 'Hitachi')]"
      ]
     },
     "execution_count": 16,
     "metadata": {},
     "output_type": "execute_result"
    }
   ],
   "source": [
    "%%sql\n",
    "-- sometimes we want to order the results.\n",
    "-- order by is ascending by default!\n",
    "SELECT   pname, price, manufacturer\n",
    "FROM     Product\n",
    "WHERE    price > 50\n",
    "ORDER BY  price, pname"
   ]
  },
  {
   "cell_type": "code",
   "execution_count": 17,
   "metadata": {
    "slideshow": {
     "slide_type": "subslide"
    }
   },
   "outputs": [
    {
     "name": "stdout",
     "output_type": "stream",
     "text": [
      " * postgresql://postgres:***@db:5432/postgres\n",
      "4 rows affected.\n"
     ]
    },
    {
     "data": {
      "text/html": [
       "<table>\n",
       "    <thead>\n",
       "        <tr>\n",
       "            <th>price</th>\n",
       "            <th>manufacturer</th>\n",
       "        </tr>\n",
       "    </thead>\n",
       "    <tbody>\n",
       "        <tr>\n",
       "            <td>149.99</td>\n",
       "            <td>Canon</td>\n",
       "        </tr>\n",
       "        <tr>\n",
       "            <td>29.99</td>\n",
       "            <td>GizmoWorks</td>\n",
       "        </tr>\n",
       "        <tr>\n",
       "            <td>19.99</td>\n",
       "            <td>GizmoWorks</td>\n",
       "        </tr>\n",
       "        <tr>\n",
       "            <td>203.99</td>\n",
       "            <td>Hitachi</td>\n",
       "        </tr>\n",
       "    </tbody>\n",
       "</table>"
      ],
      "text/plain": [
       "[(Decimal('149.99'), 'Canon'),\n",
       " (Decimal('29.99'), 'GizmoWorks'),\n",
       " (Decimal('19.99'), 'GizmoWorks'),\n",
       " (Decimal('203.99'), 'Hitachi')]"
      ]
     },
     "execution_count": 17,
     "metadata": {},
     "output_type": "execute_result"
    }
   ],
   "source": [
    "%%sql\n",
    "-- sometimes we want to order the results.\n",
    "-- can order like so, each component individually\n",
    "SELECT   price, manufacturer\n",
    "FROM     Product\n",
    "-- the order is \"dictionary order\" in the clause.\n",
    "ORDER BY   manufacturer ASC, price DESC"
   ]
  },
  {
   "cell_type": "markdown",
   "metadata": {},
   "source": [
    "Joins!\n",
    "------\n",
    "Let's illustrate some more complex queries that join two tables together.\n",
    "\n",
    "* Consider a table of companies, stock price, and HQ country.\n",
    "> company(<u>cname</u>, stockprice, country)\n",
    " \n",
    "* we'll then revist products and introduce some consistency requirements "
   ]
  },
  {
   "cell_type": "code",
   "execution_count": 18,
   "metadata": {},
   "outputs": [
    {
     "name": "stdout",
     "output_type": "stream",
     "text": [
      " * postgresql://postgres:***@db:5432/postgres\n",
      "Done.\n",
      "Done.\n",
      "Done.\n",
      "1 rows affected.\n",
      "1 rows affected.\n",
      "1 rows affected.\n"
     ]
    },
    {
     "data": {
      "text/plain": [
       "[]"
      ]
     },
     "execution_count": 18,
     "metadata": {},
     "output_type": "execute_result"
    }
   ],
   "source": [
    "%%sql\n",
    "drop table if exists product; -- This needs to be dropped if exists, see why further down!\n",
    "drop table if exists company;\n",
    "create table company (\n",
    "    cname varchar primary key, -- company name uniquely identifies the company.\n",
    "    stockprice money, -- stock price is in money \n",
    "    country varchar); -- country is just a string\n",
    "insert into company values ('GizmoWorks', 25.0, 'USA');\n",
    "insert into company values ('Canon', 65.0, 'Japan');\n",
    "insert into company values ('Hitachi', 15.0, 'Japan');"
   ]
  },
  {
   "cell_type": "code",
   "execution_count": 19,
   "metadata": {},
   "outputs": [
    {
     "name": "stdout",
     "output_type": "stream",
     "text": [
      " * postgresql://postgres:***@db:5432/postgres\n",
      "3 rows affected.\n"
     ]
    },
    {
     "data": {
      "text/html": [
       "<table>\n",
       "    <thead>\n",
       "        <tr>\n",
       "            <th>cname</th>\n",
       "            <th>stockprice</th>\n",
       "            <th>country</th>\n",
       "        </tr>\n",
       "    </thead>\n",
       "    <tbody>\n",
       "        <tr>\n",
       "            <td>GizmoWorks</td>\n",
       "            <td>$25.00</td>\n",
       "            <td>USA</td>\n",
       "        </tr>\n",
       "        <tr>\n",
       "            <td>Canon</td>\n",
       "            <td>$65.00</td>\n",
       "            <td>Japan</td>\n",
       "        </tr>\n",
       "        <tr>\n",
       "            <td>Hitachi</td>\n",
       "            <td>$15.00</td>\n",
       "            <td>Japan</td>\n",
       "        </tr>\n",
       "    </tbody>\n",
       "</table>"
      ],
      "text/plain": [
       "[('GizmoWorks', '$25.00', 'USA'),\n",
       " ('Canon', '$65.00', 'Japan'),\n",
       " ('Hitachi', '$15.00', 'Japan')]"
      ]
     },
     "execution_count": 19,
     "metadata": {},
     "output_type": "execute_result"
    }
   ],
   "source": [
    "%sql select * from company;"
   ]
  },
  {
   "cell_type": "markdown",
   "metadata": {},
   "source": [
    "Foreign Key Constraints\n",
    "-----------------------\n",
    "* Suppose that we want to create a products table\n",
    "\n",
    "> Product(pname, price, category, manufacturer)\n",
    "\n",
    "* Something is odd here: We can have manufacturers that sell products but don't occur in our company table!\n",
    "* To protect against, this we introduce _foreign keys_ "
   ]
  },
  {
   "cell_type": "markdown",
   "metadata": {},
   "source": [
    "We say the company name in products _refers_ to cname in company. Let's do it in SQL! the key statement below is:\n",
    "\n",
    "> foreign key (manufacturer) references company(cname)\n",
    "\n",
    "  * Note that cname must be a key in company! \n",
    "  * Keys and Foreign keys come up _all_ the time. \n",
    "    * PKs and FKs are common (others, less so)"
   ]
  },
  {
   "cell_type": "code",
   "execution_count": 21,
   "metadata": {},
   "outputs": [
    {
     "name": "stdout",
     "output_type": "stream",
     "text": [
      " * postgresql://postgres:***@db:5432/postgres\n",
      "Done.\n",
      "Done.\n",
      "1 rows affected.\n",
      "1 rows affected.\n",
      "1 rows affected.\n",
      "1 rows affected.\n"
     ]
    },
    {
     "data": {
      "text/plain": [
       "[]"
      ]
     },
     "execution_count": 21,
     "metadata": {},
     "output_type": "execute_result"
    }
   ],
   "source": [
    "%%sql drop table if exists product;\n",
    "\n",
    "CREATE TABLE product (\n",
    "    pname varchar PRIMARY KEY, -- name of the product\n",
    "    price decimal(10,2), -- price of the product\n",
    "    category varchar, -- category\n",
    "    manufacturer varchar REFERENCES company(cname) -- foreign key reference\n",
    ");\n",
    "insert into product values('Gizmo', 19.99, 'Gadgets', 'GizmoWorks');\n",
    "insert into product values('PowerGizmo', 29.99, 'Gadgets', 'GizmoWorks');\n",
    "insert into product values('SingleTouch', 149.99, 'Photography', 'Canon');\n",
    "insert into product values('MultiTouch', 203.99, 'Household', 'Hitachi');"
   ]
  },
  {
   "cell_type": "markdown",
   "metadata": {},
   "source": [
    "Indeed foreign keys are a _constraint_ \n",
    "> What happens if we introduce a company name not in our table?\n"
   ]
  },
  {
   "cell_type": "code",
   "execution_count": 22,
   "metadata": {},
   "outputs": [
    {
     "name": "stdout",
     "output_type": "stream",
     "text": [
      " * postgresql://postgres:***@db:5432/postgres\n",
      "(psycopg2.errors.UniqueViolation) duplicate key value violates unique constraint \"product_pkey\"\n",
      "DETAIL:  Key (pname)=(MultiTouch) already exists.\n",
      "\n",
      "[SQL: insert into product values('MultiTouch', 203.99, 'Household' , 'Google' );]\n",
      "(Background on this error at: https://sqlalche.me/e/20/gkpj)\n"
     ]
    }
   ],
   "source": [
    "try:\n",
    "    %sql insert into product values('MultiTouch', 203.99, 'Household', 'Google');\n",
    "except Exception as e:\n",
    "    print(e.orig.pgcode)  # print PostgreSQL error code\n",
    "    print(e.orig.pgerror)  # print PostgreSQL error message\n",
    "    print(\"Rejected!\")\n",
    "  "
   ]
  },
  {
   "cell_type": "code",
   "execution_count": 23,
   "metadata": {},
   "outputs": [
    {
     "name": "stdout",
     "output_type": "stream",
     "text": [
      " * postgresql://postgres:***@db:5432/postgres\n",
      "4 rows affected.\n"
     ]
    },
    {
     "data": {
      "text/html": [
       "<table>\n",
       "    <thead>\n",
       "        <tr>\n",
       "            <th>pname</th>\n",
       "            <th>price</th>\n",
       "            <th>category</th>\n",
       "            <th>manufacturer</th>\n",
       "        </tr>\n",
       "    </thead>\n",
       "    <tbody>\n",
       "        <tr>\n",
       "            <td>Gizmo</td>\n",
       "            <td>19.99</td>\n",
       "            <td>Gadgets</td>\n",
       "            <td>GizmoWorks</td>\n",
       "        </tr>\n",
       "        <tr>\n",
       "            <td>PowerGizmo</td>\n",
       "            <td>29.99</td>\n",
       "            <td>Gadgets</td>\n",
       "            <td>GizmoWorks</td>\n",
       "        </tr>\n",
       "        <tr>\n",
       "            <td>SingleTouch</td>\n",
       "            <td>149.99</td>\n",
       "            <td>Photography</td>\n",
       "            <td>Canon</td>\n",
       "        </tr>\n",
       "        <tr>\n",
       "            <td>MultiTouch</td>\n",
       "            <td>203.99</td>\n",
       "            <td>Household</td>\n",
       "            <td>Hitachi</td>\n",
       "        </tr>\n",
       "    </tbody>\n",
       "</table>"
      ],
      "text/plain": [
       "[('Gizmo', Decimal('19.99'), 'Gadgets', 'GizmoWorks'),\n",
       " ('PowerGizmo', Decimal('29.99'), 'Gadgets', 'GizmoWorks'),\n",
       " ('SingleTouch', Decimal('149.99'), 'Photography', 'Canon'),\n",
       " ('MultiTouch', Decimal('203.99'), 'Household', 'Hitachi')]"
      ]
     },
     "execution_count": 23,
     "metadata": {},
     "output_type": "execute_result"
    }
   ],
   "source": [
    "%%sql\n",
    "-- the update is rejected!\n",
    "select * from product;"
   ]
  },
  {
   "cell_type": "markdown",
   "metadata": {},
   "source": [
    "Foreign Keys and Delete\n",
    "=============\n",
    "\n",
    "* What happens if we delete a company? Three options:\n",
    "  * Disallow the delete. (default)\n",
    "  * Remove all products (add \"`on delete cascade`\")\n",
    "  * A third variant due to NULL\n",
    "  "
   ]
  },
  {
   "cell_type": "markdown",
   "metadata": {},
   "source": [
    "**First option (default)- delete is disallowed**"
   ]
  },
  {
   "cell_type": "code",
   "execution_count": 24,
   "metadata": {},
   "outputs": [
    {
     "name": "stdout",
     "output_type": "stream",
     "text": [
      " * postgresql://postgres:***@db:5432/postgres\n",
      "(psycopg2.errors.ForeignKeyViolation) update or delete on table \"company\" violates foreign key constraint \"product_manufacturer_fkey\" on table \"product\"\n",
      "DETAIL:  Key (cname)=(Hitachi) is still referenced from table \"product\".\n",
      "\n",
      "[SQL: delete from company where cname = 'Hitachi' ;]\n",
      "(Background on this error at: https://sqlalche.me/e/20/gkpj)\n"
     ]
    }
   ],
   "source": [
    "try:\n",
    "    %sql delete from company where cname = 'Hitachi';\n",
    "except Exception as e:\n",
    "    print (e)\n",
    "    print (\"Disallowed!\")"
   ]
  },
  {
   "cell_type": "markdown",
   "metadata": {},
   "source": [
    "**Second option: remove all products belonging to the company we delete**\n",
    "\n",
    "Try adjusting the foreign key constraint clause when you create the products table as follows:\n",
    "> foreign key (manufacturer) references company(cname) on delete cascade\n",
    "\n",
    "Now, when a company row is deleted, all of the products linked by the foreign key constraint will be deleted as well."
   ]
  },
  {
   "cell_type": "markdown",
   "metadata": {},
   "source": [
    "Joins!\n",
    "------\n",
    "> Product (<u>pname</u>,  price, category, manufacturer)<br>\n",
    "> Company (<u>cname</u>, stockPrice, country)\n",
    "\n",
    "The query we want to answer is:\n",
    "\n",
    "> Find all products under $200 manufactured in Japan;\n",
    "> return their names and prices. \n",
    "\n",
    "Notice products don't have a location and manufacturers don't have price. Need info in _each_ of the tables."
   ]
  },
  {
   "cell_type": "code",
   "execution_count": 25,
   "metadata": {},
   "outputs": [
    {
     "name": "stdout",
     "output_type": "stream",
     "text": [
      " * postgresql://postgres:***@db:5432/postgres\n",
      "1 rows affected.\n"
     ]
    },
    {
     "data": {
      "text/html": [
       "<table>\n",
       "    <thead>\n",
       "        <tr>\n",
       "            <th>pname</th>\n",
       "            <th>price</th>\n",
       "        </tr>\n",
       "    </thead>\n",
       "    <tbody>\n",
       "        <tr>\n",
       "            <td>SingleTouch</td>\n",
       "            <td>149.99</td>\n",
       "        </tr>\n",
       "    </tbody>\n",
       "</table>"
      ],
      "text/plain": [
       "[('SingleTouch', Decimal('149.99'))]"
      ]
     },
     "execution_count": 25,
     "metadata": {},
     "output_type": "execute_result"
    }
   ],
   "source": [
    "%%sql\n",
    "SELECT pname, price\n",
    "FROM product, company\n",
    "where manufacturer=cname and country='Japan' and price <= 200;"
   ]
  },
  {
   "cell_type": "markdown",
   "metadata": {},
   "source": [
    "Let's see how to write this join in a modular way."
   ]
  },
  {
   "cell_type": "code",
   "execution_count": 26,
   "metadata": {},
   "outputs": [
    {
     "name": "stdout",
     "output_type": "stream",
     "text": [
      " * postgresql://postgres:***@db:5432/postgres\n",
      "2 rows affected.\n"
     ]
    },
    {
     "data": {
      "text/html": [
       "<table>\n",
       "    <thead>\n",
       "        <tr>\n",
       "            <th>cname</th>\n",
       "        </tr>\n",
       "    </thead>\n",
       "    <tbody>\n",
       "        <tr>\n",
       "            <td>Canon</td>\n",
       "        </tr>\n",
       "        <tr>\n",
       "            <td>Hitachi</td>\n",
       "        </tr>\n",
       "    </tbody>\n",
       "</table>"
      ],
      "text/plain": [
       "[('Canon',), ('Hitachi',)]"
      ]
     },
     "execution_count": 26,
     "metadata": {},
     "output_type": "execute_result"
    }
   ],
   "source": [
    "%%sql -- Part 1: Set of Japanese companies.\n",
    "SELECT distinct cname -- do we need distinct?\n",
    "from company where country='Japan';"
   ]
  },
  {
   "cell_type": "code",
   "execution_count": 27,
   "metadata": {},
   "outputs": [
    {
     "name": "stdout",
     "output_type": "stream",
     "text": [
      " * postgresql://postgres:***@db:5432/postgres\n",
      "3 rows affected.\n"
     ]
    },
    {
     "data": {
      "text/html": [
       "<table>\n",
       "    <thead>\n",
       "        <tr>\n",
       "            <th>pname</th>\n",
       "            <th>price</th>\n",
       "            <th>manufacturer</th>\n",
       "        </tr>\n",
       "    </thead>\n",
       "    <tbody>\n",
       "        <tr>\n",
       "            <td>PowerGizmo</td>\n",
       "            <td>29.99</td>\n",
       "            <td>GizmoWorks</td>\n",
       "        </tr>\n",
       "        <tr>\n",
       "            <td>SingleTouch</td>\n",
       "            <td>149.99</td>\n",
       "            <td>Canon</td>\n",
       "        </tr>\n",
       "        <tr>\n",
       "            <td>Gizmo</td>\n",
       "            <td>19.99</td>\n",
       "            <td>GizmoWorks</td>\n",
       "        </tr>\n",
       "    </tbody>\n",
       "</table>"
      ],
      "text/plain": [
       "[('PowerGizmo', Decimal('29.99'), 'GizmoWorks'),\n",
       " ('SingleTouch', Decimal('149.99'), 'Canon'),\n",
       " ('Gizmo', Decimal('19.99'), 'GizmoWorks')]"
      ]
     },
     "execution_count": 27,
     "metadata": {},
     "output_type": "execute_result"
    }
   ],
   "source": [
    "%%sql -- Part 2: Cheap Products (under $200)\n",
    "select distinct pname, price, manufacturer\n",
    "from product\n",
    "where price::numeric <= 200;"
   ]
  },
  {
   "cell_type": "code",
   "execution_count": 28,
   "metadata": {},
   "outputs": [
    {
     "name": "stdout",
     "output_type": "stream",
     "text": [
      " * postgresql://postgres:***@db:5432/postgres\n",
      "6 rows affected.\n"
     ]
    },
    {
     "data": {
      "text/html": [
       "<table>\n",
       "    <thead>\n",
       "        <tr>\n",
       "            <th>pname</th>\n",
       "            <th>price</th>\n",
       "            <th>manufacturer</th>\n",
       "            <th>cname</th>\n",
       "        </tr>\n",
       "    </thead>\n",
       "    <tbody>\n",
       "        <tr>\n",
       "            <td>PowerGizmo</td>\n",
       "            <td>29.99</td>\n",
       "            <td>GizmoWorks</td>\n",
       "            <td>Canon</td>\n",
       "        </tr>\n",
       "        <tr>\n",
       "            <td>PowerGizmo</td>\n",
       "            <td>29.99</td>\n",
       "            <td>GizmoWorks</td>\n",
       "            <td>Hitachi</td>\n",
       "        </tr>\n",
       "        <tr>\n",
       "            <td>SingleTouch</td>\n",
       "            <td>149.99</td>\n",
       "            <td>Canon</td>\n",
       "            <td>Canon</td>\n",
       "        </tr>\n",
       "        <tr>\n",
       "            <td>SingleTouch</td>\n",
       "            <td>149.99</td>\n",
       "            <td>Canon</td>\n",
       "            <td>Hitachi</td>\n",
       "        </tr>\n",
       "        <tr>\n",
       "            <td>Gizmo</td>\n",
       "            <td>19.99</td>\n",
       "            <td>GizmoWorks</td>\n",
       "            <td>Canon</td>\n",
       "        </tr>\n",
       "        <tr>\n",
       "            <td>Gizmo</td>\n",
       "            <td>19.99</td>\n",
       "            <td>GizmoWorks</td>\n",
       "            <td>Hitachi</td>\n",
       "        </tr>\n",
       "    </tbody>\n",
       "</table>"
      ],
      "text/plain": [
       "[('PowerGizmo', Decimal('29.99'), 'GizmoWorks', 'Canon'),\n",
       " ('PowerGizmo', Decimal('29.99'), 'GizmoWorks', 'Hitachi'),\n",
       " ('SingleTouch', Decimal('149.99'), 'Canon', 'Canon'),\n",
       " ('SingleTouch', Decimal('149.99'), 'Canon', 'Hitachi'),\n",
       " ('Gizmo', Decimal('19.99'), 'GizmoWorks', 'Canon'),\n",
       " ('Gizmo', Decimal('19.99'), 'GizmoWorks', 'Hitachi')]"
      ]
     },
     "execution_count": 28,
     "metadata": {},
     "output_type": "execute_result"
    }
   ],
   "source": [
    "%%sql -- combine them with nested SFW queries... this is a cross product?\n",
    "SELECT * \n",
    "FROM \n",
    "  (SELECT DISTINCT pname, price, manufacturer\n",
    "   FROM product\n",
    "   WHERE price::numeric <= 200) CheapProducts,\n",
    "  (SELECT DISTINCT cname\n",
    "   FROM company\n",
    "   WHERE country='Japan') JapaneseProducts;"
   ]
  },
  {
   "cell_type": "code",
   "execution_count": 29,
   "metadata": {},
   "outputs": [
    {
     "name": "stdout",
     "output_type": "stream",
     "text": [
      " * postgresql://postgres:***@db:5432/postgres\n",
      "1 rows affected.\n"
     ]
    },
    {
     "data": {
      "text/html": [
       "<table>\n",
       "    <thead>\n",
       "        <tr>\n",
       "            <th>pname</th>\n",
       "            <th>price</th>\n",
       "        </tr>\n",
       "    </thead>\n",
       "    <tbody>\n",
       "        <tr>\n",
       "            <td>SingleTouch</td>\n",
       "            <td>149.99</td>\n",
       "        </tr>\n",
       "    </tbody>\n",
       "</table>"
      ],
      "text/plain": [
       "[('SingleTouch', Decimal('149.99'))]"
      ]
     },
     "execution_count": 29,
     "metadata": {},
     "output_type": "execute_result"
    }
   ],
   "source": [
    "%%sql\n",
    "-- Combine them as a join!\n",
    "SELECT DISTINCT pname, price\n",
    "FROM \n",
    "  (SELECT DISTINCT pname, price, manufacturer\n",
    "   FROM product\n",
    "   WHERE price::numeric <= 200) CheapProducts,\n",
    "  (SELECT distinct cname\n",
    "   FROM company\n",
    "   WHERE country='Japan') JapaneseProducts\n",
    "WHERE cname = manufacturer;"
   ]
  },
  {
   "cell_type": "markdown",
   "metadata": {},
   "source": [
    "Duplicate answers from join\n",
    "--------------------------\n",
    "\n",
    "Note that we can get duplicate answers from a join... To eliminates duplicates, we use the DISTINCT keyword after SELECT"
   ]
  },
  {
   "cell_type": "code",
   "execution_count": 31,
   "metadata": {},
   "outputs": [
    {
     "name": "stdout",
     "output_type": "stream",
     "text": [
      " * postgresql://postgres:***@db:5432/postgres\n",
      "2 rows affected.\n"
     ]
    },
    {
     "data": {
      "text/html": [
       "<table>\n",
       "    <thead>\n",
       "        <tr>\n",
       "            <th>country</th>\n",
       "        </tr>\n",
       "    </thead>\n",
       "    <tbody>\n",
       "        <tr>\n",
       "            <td>USA</td>\n",
       "        </tr>\n",
       "        <tr>\n",
       "            <td>USA</td>\n",
       "        </tr>\n",
       "    </tbody>\n",
       "</table>"
      ],
      "text/plain": [
       "[('USA',), ('USA',)]"
      ]
     },
     "execution_count": 31,
     "metadata": {},
     "output_type": "execute_result"
    }
   ],
   "source": [
    "%%sql -- duplicate answer\n",
    "SELECT Country\n",
    "FROM Product, Company\n",
    "WHERE  Manufacturer=CName AND Category='Gadgets';"
   ]
  },
  {
   "cell_type": "code",
   "execution_count": 32,
   "metadata": {},
   "outputs": [
    {
     "name": "stdout",
     "output_type": "stream",
     "text": [
      " * postgresql://postgres:***@db:5432/postgres\n",
      "1 rows affected.\n"
     ]
    },
    {
     "data": {
      "text/html": [
       "<table>\n",
       "    <thead>\n",
       "        <tr>\n",
       "            <th>country</th>\n",
       "        </tr>\n",
       "    </thead>\n",
       "    <tbody>\n",
       "        <tr>\n",
       "            <td>USA</td>\n",
       "        </tr>\n",
       "    </tbody>\n",
       "</table>"
      ],
      "text/plain": [
       "[('USA',)]"
      ]
     },
     "execution_count": 32,
     "metadata": {},
     "output_type": "execute_result"
    }
   ],
   "source": [
    "%%sql -- duplicate-free answer\n",
    "SELECT DISTINCT Country\n",
    "FROM Product, Company\n",
    "WHERE  Manufacturer=CName AND Category='Gadgets';"
   ]
  },
  {
   "cell_type": "markdown",
   "metadata": {},
   "source": [
    "SQL Takeways\n",
    "--------\n",
    "* There are potentially _many logically equivalent ways_ to write a query\n",
    "    * This fact will be used later by the query optimizer and in homework!\n",
    "    * On exams, write the simplest thing (break it down in parts?)"
   ]
  },
  {
   "cell_type": "markdown",
   "metadata": {},
   "source": [
    "Tutorial 2: Pandas walkthrough\n",
    "-----"
   ]
  },
  {
   "cell_type": "markdown",
   "metadata": {},
   "source": [
    "### Load the Dataset\n",
    "\n",
    "Use Pandas to read the CSV file 'IMDB-movies.csv'"
   ]
  },
  {
   "cell_type": "code",
   "execution_count": 37,
   "metadata": {},
   "outputs": [],
   "source": [
    "import pandas as pd\n",
    "df = pd.read_csv('/tmp/IMDB-movies.csv')"
   ]
  },
  {
   "cell_type": "markdown",
   "metadata": {},
   "source": [
    "### Exploring the Data\n",
    "To get a quick look at the data, we used the head() method"
   ]
  },
  {
   "cell_type": "code",
   "execution_count": 38,
   "metadata": {},
   "outputs": [
    {
     "name": "stdout",
     "output_type": "stream",
     "text": [
      "   id                                 name  year  rank\n",
      "0   0                                  #28  2002   NaN\n",
      "1   1  #7 Train: An Immigrant Journey, The  2000   NaN\n",
      "2   2                                    $  1971   6.4\n",
      "3   3                        $1,000 Reward  1913   NaN\n",
      "4   4                        $1,000 Reward  1915   NaN\n"
     ]
    }
   ],
   "source": [
    "print(df.head())"
   ]
  },
  {
   "cell_type": "markdown",
   "metadata": {},
   "source": [
    "To get more information about the dataset, such as column names and data types, use:"
   ]
  },
  {
   "cell_type": "code",
   "execution_count": 39,
   "metadata": {},
   "outputs": [
    {
     "name": "stdout",
     "output_type": "stream",
     "text": [
      "<class 'pandas.core.frame.DataFrame'>\n",
      "RangeIndex: 388266 entries, 0 to 388265\n",
      "Data columns (total 4 columns):\n",
      " #   Column  Non-Null Count   Dtype  \n",
      "---  ------  --------------   -----  \n",
      " 0   id      388266 non-null  int64  \n",
      " 1   name    388266 non-null  object \n",
      " 2   year    388266 non-null  int64  \n",
      " 3   rank    67245 non-null   float64\n",
      "dtypes: float64(1), int64(2), object(1)\n",
      "memory usage: 11.8+ MB\n",
      "None\n"
     ]
    }
   ],
   "source": [
    "print(df.info())"
   ]
  },
  {
   "cell_type": "markdown",
   "metadata": {},
   "source": [
    "### Basic Data Manipulation\n",
    "Selecting a single column 'name'"
   ]
  },
  {
   "cell_type": "code",
   "execution_count": 40,
   "metadata": {},
   "outputs": [
    {
     "name": "stdout",
     "output_type": "stream",
     "text": [
      "0                                    #28\n",
      "1    #7 Train: An Immigrant Journey, The\n",
      "2                                      $\n",
      "3                          $1,000 Reward\n",
      "4                          $1,000 Reward\n",
      "Name: name, dtype: object\n"
     ]
    }
   ],
   "source": [
    "names = df['name']\n",
    "print(names.head())"
   ]
  },
  {
   "cell_type": "markdown",
   "metadata": {},
   "source": [
    "To select multiple columns:"
   ]
  },
  {
   "cell_type": "code",
   "execution_count": 41,
   "metadata": {},
   "outputs": [
    {
     "name": "stdout",
     "output_type": "stream",
     "text": [
      "                                  name  year\n",
      "0                                  #28  2002\n",
      "1  #7 Train: An Immigrant Journey, The  2000\n",
      "2                                    $  1971\n",
      "3                        $1,000 Reward  1913\n",
      "4                        $1,000 Reward  1915\n"
     ]
    }
   ],
   "source": [
    "subset = df[['name', 'year']]\n",
    "print(subset.head())"
   ]
  },
  {
   "cell_type": "markdown",
   "metadata": {},
   "source": [
    "Filtering Data: To filter movies released after 2000:"
   ]
  },
  {
   "cell_type": "code",
   "execution_count": 42,
   "metadata": {},
   "outputs": [
    {
     "name": "stdout",
     "output_type": "stream",
     "text": [
      "    id                   name  year  rank\n",
      "0    0                    #28  2002   NaN\n",
      "10  10  $100,000 Pyramid, The  2001   NaN\n",
      "17  17         $300 y tickets  2002   NaN\n",
      "21  21              $5.15/Hr.  2004   NaN\n",
      "31  33                $windle  2002   5.4\n"
     ]
    }
   ],
   "source": [
    "new_movies = df[df['year'] > 2000]\n",
    "print(new_movies.head())"
   ]
  },
  {
   "cell_type": "markdown",
   "metadata": {},
   "source": [
    "Sorting movies by ranking:"
   ]
  },
  {
   "cell_type": "code",
   "execution_count": 43,
   "metadata": {},
   "outputs": [
    {
     "name": "stdout",
     "output_type": "stream",
     "text": [
      "            id                    name  year  rank\n",
      "329299  351405          Velnio nuotaka  1973   9.9\n",
      "121717  131247          Gong fu qi jie  1979   9.9\n",
      "334771  357173  Voynata na taralezhite  1979   9.9\n",
      "87842    95123       Duminica la ora 6  1965   9.9\n",
      "63185    68770   Complex Sessions, The  1994   9.9\n"
     ]
    }
   ],
   "source": [
    "sorted_movies = df.sort_values(by='rank', ascending=False)\n",
    "print(sorted_movies.head())"
   ]
  },
  {
   "cell_type": "markdown",
   "metadata": {},
   "source": [
    "### Computing aggregates\n",
    "The following cell demonstrates how to use aggregate functions and groupBy in Pandas dataframes"
   ]
  },
  {
   "cell_type": "code",
   "execution_count": 46,
   "metadata": {},
   "outputs": [
    {
     "name": "stdout",
     "output_type": "stream",
     "text": [
      "\n",
      "Mean rank of movies: 5.874238976875605\n",
      "Median rank of movies: 6.0\n",
      "Total number of movies: 388266\n",
      "\n",
      "Mean rank per year:\n",
      "year\n",
      "1888         NaN\n",
      "1890    7.300000\n",
      "1891    3.683333\n",
      "1892    2.866667\n",
      "1893    6.800000\n",
      "          ...   \n",
      "2004    6.217399\n",
      "2005         NaN\n",
      "2006         NaN\n",
      "2007         NaN\n",
      "2008         NaN\n",
      "Name: rank, Length: 120, dtype: float64\n",
      "\n",
      "Number of movies released per year:\n",
      "year\n",
      "1888       2\n",
      "1890       3\n",
      "1891       6\n",
      "1892       9\n",
      "1893       2\n",
      "        ... \n",
      "2004    8718\n",
      "2005    1449\n",
      "2006     195\n",
      "2007       7\n",
      "2008       1\n",
      "Name: name, Length: 120, dtype: int64\n"
     ]
    }
   ],
   "source": [
    "# Selecting the 'rank' column for aggregation\n",
    "# Assuming 'rank' is a numeric column representing the movie's rank\n",
    "\n",
    "# Calculating the mean rank\n",
    "mean_rank = df['rank'].mean()\n",
    "print(\"\\nMean rank of movies:\", mean_rank)\n",
    "\n",
    "# Calculating the median rank\n",
    "median_rank = df['rank'].median()\n",
    "print(\"Median rank of movies:\", median_rank)\n",
    "\n",
    "# Counting the number of movies\n",
    "movie_count = df['name'].count()\n",
    "print(\"Total number of movies:\", movie_count)\n",
    "\n",
    "# Grouping by 'year' and calculating mean rank per year\n",
    "mean_rank_per_year = df.groupby('year')['rank'].mean()\n",
    "print(\"\\nMean rank per year:\")\n",
    "print(mean_rank_per_year)\n",
    "\n",
    "# Grouping by 'year' and getting count of movies per year\n",
    "movies_per_year = df.groupby('year')['name'].count()\n",
    "print(\"\\nNumber of movies released per year:\")\n",
    "print(movies_per_year)\n",
    "\n",
    "# Note: You can replace 'rank' with any other numeric column for similar calculations\n",
    "# And replace 'year' with any other categorical column for group-wise aggregations\n"
   ]
  },
  {
   "cell_type": "markdown",
   "metadata": {},
   "source": [
    "Joining tables\n",
    "--------\n",
    "\n",
    "We can do all the flavors of SQL joins with Pandas. In this example, we will use two datasets 'imdb_top_1000.csv' (from https://www.kaggle.com/datasets/harshitshankhdhar/imdb-dataset-of-top-1000-movies-and-tv-shows) containing the top 1000 rated IMDB movies/shows and 'IMDB-movies.csv' containing a list of movies with their ranking. We want to know which movies in IMDB-movies.csv are in the top 1000 movies and find out who the directors of these movies are."
   ]
  },
  {
   "cell_type": "code",
   "execution_count": 54,
   "metadata": {},
   "outputs": [
    {
     "name": "stdout",
     "output_type": "stream",
     "text": [
      "     id                   name  year  rank  \\\n",
      "0   969           12 angry men  1957   8.7   \n",
      "1   970           12 angry men  1997   NaN   \n",
      "2  1374                   1917  1970   6.1   \n",
      "3  1711  2001: a space odyssey  1968   8.3   \n",
      "4  1787               21 grams  2003   8.0   \n",
      "\n",
      "                                         Poster_Link           Series_Title  \\\n",
      "0  https://m.media-amazon.com/images/M/MV5BMWU4N2...           12 angry men   \n",
      "1  https://m.media-amazon.com/images/M/MV5BMWU4N2...           12 angry men   \n",
      "2  https://m.media-amazon.com/images/M/MV5BOTdmNT...                   1917   \n",
      "3  https://m.media-amazon.com/images/M/MV5BMmNlYz...  2001: a space odyssey   \n",
      "4  https://m.media-amazon.com/images/M/MV5BMjA4Mj...               21 grams   \n",
      "\n",
      "  Released_Year Certificate  Runtime                   Genre  IMDB_Rating  \\\n",
      "0          1957           U   96 min            Crime, Drama          9.0   \n",
      "1          1957           U   96 min            Crime, Drama          9.0   \n",
      "2          2019           R  119 min    Drama, Thriller, War          8.3   \n",
      "3          1968           U  149 min       Adventure, Sci-Fi          8.3   \n",
      "4          2003          UA  124 min  Crime, Drama, Thriller          7.6   \n",
      "\n",
      "                                            Overview  Meta_score  \\\n",
      "0  A jury holdout attempts to prevent a miscarria...        96.0   \n",
      "1  A jury holdout attempts to prevent a miscarria...        96.0   \n",
      "2  April 6th, 1917. As a regiment assembles to wa...        78.0   \n",
      "3  After discovering a mysterious artifact buried...        84.0   \n",
      "4  A freak accident brings together a critically ...        70.0   \n",
      "\n",
      "                Director                 Star1             Star2  \\\n",
      "0           Sidney Lumet           Henry Fonda       Lee J. Cobb   \n",
      "1           Sidney Lumet           Henry Fonda       Lee J. Cobb   \n",
      "2             Sam Mendes  Dean-Charles Chapman     George MacKay   \n",
      "3        Stanley Kubrick           Keir Dullea     Gary Lockwood   \n",
      "4  Alejandro G. Iñárritu             Sean Penn  Benicio Del Toro   \n",
      "\n",
      "               Star3           Star4  No_of_Votes        Gross  \n",
      "0      Martin Balsam    John Fiedler       689845    4,360,000  \n",
      "1      Martin Balsam    John Fiedler       689845    4,360,000  \n",
      "2        Daniel Mays     Colin Firth       425844  159,227,644  \n",
      "3  William Sylvester  Daniel Richter       603517   56,954,992  \n",
      "4        Naomi Watts    Danny Huston       224545   16,290,476  \n"
     ]
    }
   ],
   "source": [
    "# Importing Pandas\n",
    "import pandas as pd\n",
    "\n",
    "# Load the IMDB movies dataset\n",
    "movies_df = pd.read_csv('IMDB-movies.csv')\n",
    "\n",
    "# Load the IMDB top 1000 dataset\n",
    "top_1000_df = pd.read_csv('imdb_top_1000.csv')\n",
    "\n",
    "# Preprocessing: Ensuring consistent formatting (if necessary)\n",
    "# For example, strip trailing spaces and convert to a consistent case\n",
    "movies_df['name'] = movies_df['name'].str.strip().str.lower()\n",
    "top_1000_df['Series_Title'] = top_1000_df['Series_Title'].str.strip().str.lower()\n",
    "\n",
    "# Perform the join\n",
    "# Here we're performing an inner join, which will include only the movies present in both datasets\n",
    "joined_df = pd.merge(movies_df, top_1000_df, left_on='name', right_on='Series_Title')\n",
    "\n",
    "# Displaying the first few rows of the joined DataFrame\n",
    "print(joined_df.head())\n",
    "\n",
    "# Note:\n",
    "# - Adjust the type of join (inner, left, right, outer) based on your analysis needs.\n",
    "# - The preprocessing step is crucial for a successful join and may vary based on your data."
   ]
  },
  {
   "cell_type": "markdown",
   "metadata": {},
   "source": [
    "Pandas Takeways\n",
    "--------\n",
    "Pandas is a great library to deal with smaller datasets (ones that fit in memory). Pandas provides versatile methods to manipulate and query the data. It also allows getting the data directly from a database (https://pandas.pydata.org/docs/reference/api/pandas.read_sql.html). For big datasets, it's prefered to use a database system (like Postgres) and SQL to query the data. For more tutorials on Pandas, please refer to https://github.com/guipsamora/pandas_exercises"
   ]
  },
  {
   "cell_type": "code",
   "execution_count": null,
   "metadata": {},
   "outputs": [],
   "source": []
  }
 ],
 "metadata": {
  "celltoolbar": "Slideshow",
  "kernelspec": {
   "display_name": "Python 3 (ipykernel)",
   "language": "python",
   "name": "python3"
  },
  "language_info": {
   "codemirror_mode": {
    "name": "ipython",
    "version": 3
   },
   "file_extension": ".py",
   "mimetype": "text/x-python",
   "name": "python",
   "nbconvert_exporter": "python",
   "pygments_lexer": "ipython3",
   "version": "3.8.13"
  }
 },
 "nbformat": 4,
 "nbformat_minor": 4
}
