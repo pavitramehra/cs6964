{
 "cells": [
  {
   "cell_type": "markdown",
   "id": "d7bf1c6f-a40b-43d5-bf61-8cf7c428f2ac",
   "metadata": {},
   "source": [
    "CS6964/CS4964: Lab 1:\n",
    "-----\n",
    "\n",
    "Please run the following cells to create a sample database and insert a few rows into it."
   ]
  },
  {
   "cell_type": "code",
   "execution_count": null,
   "id": "1aed0929-6068-41d9-a69d-097cbf7bd89d",
   "metadata": {},
   "outputs": [],
   "source": [
    "%load_ext sql"
   ]
  },
  {
   "cell_type": "code",
   "execution_count": null,
   "id": "c3b26575-ad9f-4638-995b-c4d5b5ab49c0",
   "metadata": {},
   "outputs": [],
   "source": [
    "%sql postgresql://postgres:postgres@db:5432/postgres"
   ]
  },
  {
   "cell_type": "code",
   "execution_count": null,
   "id": "ac8e3d1c-34e6-4705-8e23-b0f1c6b2d753",
   "metadata": {},
   "outputs": [],
   "source": [
    "%%sql drop table if exists franchise cascade;\n",
    "-- Franchise table with a primary key\n",
    "CREATE TABLE franchise (\n",
    "    franchise_id SERIAL PRIMARY KEY,\n",
    "    name TEXT NOT NULL,\n",
    "    category TEXT\n",
    ");\n",
    "\n",
    "drop table if exists store cascade;\n",
    "-- Store table with a primary key and a foreign key referencing franchise_id\n",
    "CREATE TABLE store (\n",
    "    store_id SERIAL PRIMARY KEY,\n",
    "    franchise_id INT REFERENCES franchise(franchise_id),\n",
    "    location TEXT NOT NULL\n",
    ");\n",
    "\n",
    "drop table if exists product cascade;\n",
    "-- Product table with a primary key\n",
    "CREATE TABLE product (\n",
    "    product_id SERIAL PRIMARY KEY,\n",
    "    name TEXT NOT NULL,\n",
    "    price DECIMAL(10, 2) NOT NULL, -- Using DECIMAL for precise monetary values\n",
    "    made_by TEXT\n",
    ");\n",
    "\n",
    "DROP TABLE IF EXISTS purchase CASCADE;\n",
    "\n",
    "CREATE TABLE purchase (\n",
    "    purchase_id SERIAL PRIMARY KEY,\n",
    "    product_id INT REFERENCES product(product_id),\n",
    "    store_id INT REFERENCES store(store_id), -- Added store_id reference\n",
    "    date DATE NOT NULL,\n",
    "    quantity INT NOT NULL,\n",
    "    purchaser_age INT\n",
    ");\n",
    "\n",
    "DROP TABLE IF EXISTS franchise_chain CASCADE;\n",
    "\n",
    "CREATE TABLE franchise_chain (\n",
    "    parent_franchise_id INT REFERENCES franchise(franchise_id),\n",
    "    child_franchise_id INT REFERENCES franchise(franchise_id),\n",
    "    PRIMARY KEY (parent_franchise_id, child_franchise_id)\n",
    ");\n",
    "\n"
   ]
  },
  {
   "cell_type": "code",
   "execution_count": null,
   "id": "fd560a7a-469e-44bc-bad2-ee14a205787d",
   "metadata": {},
   "outputs": [],
   "source": [
    "%%sql\n",
    "-- Insert data into the franchise table\n",
    "INSERT INTO franchise (name, category)\n",
    "VALUES\n",
    "    ('Coffee Co', 'Café'),\n",
    "    ('Electronics Emporium', 'Retail Electronics'),\n",
    "    ('Home Essentials', 'Home Goods'),\n",
    "    ('Bagels co', 'Bagels'),\n",
    "    ('Fresh Bakery', 'Bakery'),\n",
    "    ('Gadget World', 'Electronics'),\n",
    "    ('Urban Wear', 'Clothing'),\n",
    "    ('Gourmet Delight', 'Restaurant'),\n",
    "    ('Tech Trendz', 'Electronics'),\n",
    "    ('Sweet Treats', 'Dessert'),\n",
    "    ('Book Haven', 'Bookstore'),\n",
    "    ('Fitness Gear', 'Sports Equipment'),\n",
    "    ('Garden Goods', 'Gardening'),\n",
    "    ('Tech World', 'Electronics'),\n",
    "    ('Urban Cafe', 'Cafe'),\n",
    "    ('Book World', 'Bookstore'),\n",
    "    ('Health Hub', 'Health'),\n",
    "    ('Fashion Fiesta', 'Clothing'),\n",
    "    ('Gadget Galaxy', 'Electronics'),\n",
    "    ('Cozy Corner', 'Furniture'),\n",
    "    ('Pet Paradise', 'Pet Supplies'),\n",
    "    ('Music Mania', 'Music Store');\n",
    "    \n",
    "    \n",
    "\n",
    "-- Insert data into the store table\n",
    "INSERT INTO store (franchise_id, location)\n",
    "VALUES\n",
    "    (1, 'Downtown Plaza'),\n",
    "    (1, 'West End Mall'),\n",
    "    (2, 'Tech Hub Mall'),\n",
    "    (3, 'City Center'),\n",
    "    (5, 'Lakeview District'),\n",
    "    (6, 'Greenfield Center'),\n",
    "    (7, 'Downtown Market'),\n",
    "    (8, 'Hilltop Plaza'),\n",
    "    (9, 'Tech Park'),\n",
    "    (10, 'Sunnyvale Strip'),\n",
    "    (11, 'Liberty Lane'),\n",
    "    (12, 'Sports Complex'),\n",
    "    (13, 'Green Valley'),\n",
    "    (14, 'Downtown Avenue'),\n",
    "    (15, 'Central Street'),\n",
    "    (16, 'Eastside Market'),\n",
    "    (17, 'West End'),\n",
    "    (18, 'Northern Quarter'),\n",
    "    (19, 'Tech District'),\n",
    "    (20, 'Oakwood Area'),\n",
    "    (21, 'Riverfront'),\n",
    "    (22, 'Harbor Side');\n",
    "\n",
    "-- Insert data into the product table\n",
    "INSERT INTO product (name, price, made_by)\n",
    "VALUES\n",
    "    ('Espresso Machine', 399.99, 'CoffeeCo Appliances'),\n",
    "    ('Laptop', 899.99, 'TechGizmo'),\n",
    "    ('Toaster', 29.99, 'HomeTech Inc.'),\n",
    "    ('Cappuccino Maker', 299.99, 'CoffeeCo Appliances'),\n",
    "    ('Bread Maker', 120.50, 'BakeTech'),\n",
    "    ('Smartphone', 599.99, 'GadgetPro'),\n",
    "    ('Jeans', 49.99, 'Urban Fashion Inc.'),\n",
    "    ('Steak Grill', 350.00, 'Gourmet Appliances'),\n",
    "    ('Tablet', 450.00, 'Tech Trendz Inc.'),\n",
    "    ('Chocolate Cake', 15.99, 'Sweet Treats Bakery'),\n",
    "    ('Mystery Novel', 8.99, 'Book Haven Publishing'),\n",
    "    ('Yoga Mat', 20.00, 'Fitness Gear Co.'),\n",
    "    ('Gardening Kit', 35.00, 'Green Thumb Inc.'),\n",
    "    ('Smart TV', 1200.00, 'Tech World Electronics'),\n",
    "    ('Organic Coffee', 10.99, 'Urban Cafe Supplies'),\n",
    "    ('Bestseller Novel', 15.00, 'Book World Press'),\n",
    "    ('Fitness Tracker', 199.99, 'Health Hub Tech'),\n",
    "    ('Designer Jeans', 85.00, 'Fashion Fiesta Brand'),\n",
    "    ('Wireless Headphones', 250.00, 'Gadget Galaxy Tech'),\n",
    "    ('Sofa Set', 899.99, 'Cozy Corner Furnishings'),\n",
    "    ('Dog Bed', 49.99, 'Pet Paradise Supplies'),\n",
    "    ('Guitar', 499.99, 'Music Mania Instruments');\n",
    "\n",
    "\n",
    "\n",
    "-- Insert data into the purchase table\n",
    "INSERT INTO purchase (product_id, store_id, date, quantity, purchaser_age)\n",
    "VALUES\n",
    "    (1, 1, '2023-01-10', 3, 35),\n",
    "    (2, 1, '2023-02-15', 2, 28),\n",
    "    (3, 2, '2023-03-20', 4, 42),\n",
    "    (4, 3, '2023-04-05', 1, 29),\n",
    "    (5, 5, '2023-05-12', 2, 30),\n",
    "    (6, 6, '2023-06-07', 1, 22),\n",
    "    (7, 7, '2023-07-22', 3, 40),\n",
    "    (8, 8, '2023-08-15', 1, 33),\n",
    "    (9, 9, '2023-09-10', 2, 30),\n",
    "    (11, 11, '2023-10-05', 1, 25),\n",
    "    (12, 13, '2023-09-15', 3, 45),\n",
    "    (14, 14, '2023-10-20', 1, 32);\n",
    "\n",
    "    \n",
    "INSERT INTO franchise_chain (parent_franchise_id, child_franchise_id)\n",
    "VALUES\n",
    "    (1, 4), -- 'Coffee Co' is the parent of 'Bagels co'\n",
    "    (3, 2), -- 'Home Essentials' is the parent of 'Electronics Emporium'\n",
    "    (5, 8), -- 'Fresh Bakery' is the parent of 'Gourmet Delight'\n",
    "    (7, 6), -- 'Urban Wear' is the parent of 'Gadget World'\n",
    "    (9, 10), -- 'Tech Trendz' is the parent of 'Sweet Treats'\n",
    "    (11, 12), -- 'Book Haven' is the parent of 'Fitness Gear'\n",
    "    (13, 15), -- 'Garden Goods' is the parent of 'Urban Cafe'\n",
    "    (15, 17), -- 'Urban Cafe' is the parent of 'Health Hub'\n",
    "    (14, 16), -- 'Tech World' is the parent of 'Book World'\n",
    "    (16, 18); -- 'Book World' is the parent of 'Fashion Fiesta'\n"
   ]
  },
  {
   "cell_type": "markdown",
   "id": "4a60dbb0-d757-430c-ac43-e3563ab4f39a",
   "metadata": {},
   "source": [
    "Part 1: SQL questions\n",
    "---------\n",
    "We will first start with a series of SQL queries, to strengthen our understanding of simple and advanced SQL"
   ]
  },
  {
   "cell_type": "markdown",
   "id": "5ae85b98-d13e-42ad-ae65-08f3b5ae47ef",
   "metadata": {},
   "source": [
    "Q0. (5 pts) Write a SQL query that lists all franchise names and their stores' locations"
   ]
  },
  {
   "cell_type": "code",
   "execution_count": null,
   "id": "cbeec671-31b4-4e1b-8a51-a683447d3e96",
   "metadata": {},
   "outputs": [],
   "source": [
    "%%sql\n",
    "-- Your code goes here\n"
   ]
  },
  {
   "cell_type": "markdown",
   "id": "ba0b0374-b959-4fb9-b39c-62a96285c6a6",
   "metadata": {},
   "source": [
    "Q1. (5 pts) Write an SQL query that calculates the total revenue for each franchise by summing up the revenues from all of their stores. The revenue should be calculated based on the quantities and prices of products sold in each purchase. The result should display the name of each franchise along with its total revenue"
   ]
  },
  {
   "cell_type": "code",
   "execution_count": null,
   "id": "cf742d23-332b-4230-a865-6cd5daf3894b",
   "metadata": {
    "tags": []
   },
   "outputs": [],
   "source": [
    "%%sql\n",
    "-- Your code goes here"
   ]
  },
  {
   "cell_type": "markdown",
   "id": "e69ceb49-b2d7-4abf-b6b1-93fbd64f6edf",
   "metadata": {},
   "source": [
    "\n",
    "Q2. (5 pts) Write a SQL query to calculate the total revenue for each franchise, including those without any sales. The revenue should be determined by summing up the product of quantities and prices of all products sold across all stores belonging to each franchise. The output should list the name of each franchise alongside its total revenue, ensuring that franchises with no sales also appear in the result with their revenue shown as zero"
   ]
  },
  {
   "cell_type": "code",
   "execution_count": null,
   "id": "8356b3b5-26a3-4045-b79c-14690eaa2211",
   "metadata": {
    "tags": []
   },
   "outputs": [],
   "source": [
    "%%sql\n",
    "-- Your code goes here"
   ]
  },
  {
   "cell_type": "markdown",
   "id": "320cd051-46bb-4585-b33b-1cda958ef5c6",
   "metadata": {},
   "source": [
    "\n",
    "Q3. (5 pts) Write a SQL query that lists each franchise's name, the locations of its stores, and the total revenue for each store. The revenue should be calculated from the sum of the products of the quantities and prices of all purchases made at each store. Include all franchises and stores in the results, even those without any sales, showing zero revenue for these cases. The output should be grouped by both franchise name and store location and ordered by franchise name and store location"
   ]
  },
  {
   "cell_type": "code",
   "execution_count": null,
   "id": "d7db0c29-e169-421b-b5a3-5b80202286a1",
   "metadata": {
    "tags": []
   },
   "outputs": [],
   "source": [
    "%%sql\n",
    "-- Your code goes here"
   ]
  },
  {
   "cell_type": "markdown",
   "id": "61c5a420-21b8-4a87-9454-daf3e8580079",
   "metadata": {},
   "source": [
    "Q4. (5 pts) Write a SQL query to find the average purchase amount per store, along with the number of unique products sold and the category of the franchise"
   ]
  },
  {
   "cell_type": "code",
   "execution_count": null,
   "id": "1c08886a-afb3-4e19-ab29-76c7607732bc",
   "metadata": {},
   "outputs": [],
   "source": [
    "%%sql\n",
    "-- Your code goes here"
   ]
  },
  {
   "cell_type": "markdown",
   "id": "fa39630e-61a8-474e-9a4a-47bed099776a",
   "metadata": {},
   "source": [
    "\n",
    "Q5. (7 pts) Write a SQL query that shows a hierarchy graph of franchises. This graph should show each franchise, its level in the hierarchy, and the root franchise it originates from. The query should list franchises at the root level with a level of 0, and increment the level by 1 for each subsequent child franchise level. Order the results by the root franchise ID and the hierarchical level."
   ]
  },
  {
   "cell_type": "code",
   "execution_count": null,
   "id": "c86aaebf-bceb-416d-9069-671a013572c4",
   "metadata": {
    "tags": []
   },
   "outputs": [],
   "source": [
    "%%sql\n",
    "-- Your code goes here"
   ]
  },
  {
   "cell_type": "markdown",
   "id": "f3dfeac7-98d4-451d-8ec6-b5a9c4ee84d3",
   "metadata": {},
   "source": [
    "Q6. (7 pts) Write a SQL query to find the total sales of each franchise, including all its child franchises in the hierarchy"
   ]
  },
  {
   "cell_type": "code",
   "execution_count": null,
   "id": "a457179b-b2c7-4f40-9e6a-b556333529c6",
   "metadata": {},
   "outputs": [],
   "source": [
    "%%sql\n",
    "-- Your query goes here"
   ]
  },
  {
   "cell_type": "markdown",
   "id": "321754cd-b30d-4723-add2-5c4ca2d47c71",
   "metadata": {},
   "source": [
    "Part 2: Schema creation, normalization, and Pandas primer\n",
    "-----\n",
    "\n",
    "In this part, you will get to design a database, populate it, and then, run simple SQL queries on it. You will then run those same queries using Pandas."
   ]
  },
  {
   "cell_type": "markdown",
   "id": "7fdcc8e4-36ad-474d-836e-073d9c0eb12a",
   "metadata": {},
   "source": [
    "Q7. (10 pts) Create a normalized (i.e., one that won't allow redundancies) database schema that has:\n",
    "\n",
    "    - at least 3 tables\n",
    "    - at least 3 primary keys\n",
    "    - at least 2 foreign keys\n",
    "    - at least 2 tables should have an n-m relationship between them\n",
    "\n",
    "It is OK to use a database you find online for this question, as long as it satisfies the above constraints.\n",
    "The code cell should include CREATE TABLE statements\n"
   ]
  },
  {
   "cell_type": "code",
   "execution_count": null,
   "id": "675f3306-319c-424f-99e2-ab657661c5b0",
   "metadata": {},
   "outputs": [],
   "source": [
    "%%sql\n",
    "-- Your code goes here"
   ]
  },
  {
   "cell_type": "markdown",
   "id": "ded313f9-b8bd-4ad0-b6b5-61042aeb79c9",
   "metadata": {},
   "source": [
    "Q8. (5 pts) Insert values into the database (at least 5 rows per table)"
   ]
  },
  {
   "cell_type": "code",
   "execution_count": null,
   "id": "741cbae6-fc16-4fbc-8400-2c9a7a47f15f",
   "metadata": {},
   "outputs": [],
   "source": [
    "%%sql\n",
    "-- Your code goes here"
   ]
  },
  {
   "cell_type": "markdown",
   "id": "862e5343-3401-4239-8487-b06ba3cee25c",
   "metadata": {},
   "source": [
    "Q9. (5 pts) Write three join SQL queries on your database, and explain what they accomplish"
   ]
  },
  {
   "cell_type": "code",
   "execution_count": null,
   "id": "74403f7b-20ef-4e7f-9fd3-ed2c866879d5",
   "metadata": {},
   "outputs": [],
   "source": [
    "%%sql\n",
    "-- Your code goes here"
   ]
  },
  {
   "cell_type": "markdown",
   "id": "17ea8dcd-3aad-4e03-bb18-f0b65a4be38c",
   "metadata": {},
   "source": [
    "Q10. (5 pts) Can you speed up the three queries from Q7? If so, show what you did and show the before/after query plans using the EXPLAIN command."
   ]
  },
  {
   "cell_type": "code",
   "execution_count": null,
   "id": "07aef97c-5aac-44d6-89ba-4e52af2a4716",
   "metadata": {},
   "outputs": [],
   "source": [
    "%%sql\n",
    "-- Your code goes here"
   ]
  },
  {
   "cell_type": "markdown",
   "id": "6b0764b8-979d-4e47-bd2d-80ce5fa0fa55",
   "metadata": {},
   "source": [
    "Q11. (10 pts) Use Pandas to load your tables and run the three queries you wrote in Q7, but using Pandas methods (no SQL)"
   ]
  },
  {
   "cell_type": "code",
   "execution_count": null,
   "id": "b3d953b9-2410-48a1-83c1-a9bdebdcf537",
   "metadata": {},
   "outputs": [],
   "source": [
    "import pandas as pd\n",
    "\n",
    "#TODO: your code goes here"
   ]
  },
  {
   "cell_type": "markdown",
   "id": "ee94d1f5-f226-48b2-9e58-423300adbfa6",
   "metadata": {},
   "source": [
    "Part 3: SQL vs. Pandas\n",
    "--------------\n",
    "\n",
    "We have an IMDB movies dataset (IMDB-movies.csv), and we are interested in getting movies that were released in 1990. We will first produce this dataset using Pandas, then we will produce it using Postgres and compare the two methods. The goal of this part is to show you why you need a database/SQL vs. just using Pandas. \n",
    "\n",
    "\n",
    "#### Getting the name, ranking of all movies released in year 1990 (using Pandas)\n",
    "Q12. (8 pts) Comlplete the following code"
   ]
  },
  {
   "cell_type": "code",
   "execution_count": null,
   "id": "f227a48f-5473-45bc-ae1c-a347923fa5a7",
   "metadata": {
    "tags": []
   },
   "outputs": [],
   "source": [
    "import pandas as pd\n",
    "import time\n",
    "\n",
    "# Start the timer\n",
    "start_time = time.time()\n",
    "\n",
    "#TODO: your code goes here\n",
    "\n",
    "# End the timer\n",
    "end_time = time.time()\n",
    "\n",
    "# Calculate the duration for loading\n",
    "duration = end_time - start_time\n",
    "print(f'Time taken: {duration} seconds')\n",
    "\n",
    "# Print the loaded data\n"
   ]
  },
  {
   "cell_type": "markdown",
   "id": "781d77fc-2a71-4136-91ba-658b2da0991f",
   "metadata": {},
   "source": [
    "#### Getting the name, ranking of all movies released in year 1990 (using SQL)\n",
    "\n",
    "Let's first load the CSV file into the Postgres database. The COPY command allows us to import a CSV file into a Postgres table"
   ]
  },
  {
   "cell_type": "code",
   "execution_count": null,
   "id": "c86afb64-8901-4a89-af60-89a70a53e087",
   "metadata": {},
   "outputs": [],
   "source": [
    "%%sql\n",
    "\n",
    "DROP TABLE IF EXISTS movies;\n",
    "\n",
    "CREATE TABLE movies (\n",
    "  id SERIAL PRIMARY KEY,\n",
    "  name TEXT,\n",
    "  year INT,\n",
    "  rank TEXT\n",
    ");\n",
    "\n",
    "COPY movies(id, name, year, rank)\n",
    "FROM '/tmp/IMDB-movies.csv'\n",
    "WITH (FORMAT csv, HEADER true, NULL 'NULL');"
   ]
  },
  {
   "cell_type": "markdown",
   "id": "e823f84b-c001-4554-ae82-4688bfcae4a7",
   "metadata": {},
   "source": [
    "Q13. (8 pts) Complete the following code cell"
   ]
  },
  {
   "cell_type": "code",
   "execution_count": null,
   "id": "1a9137aa-48f7-4b8c-af04-70e2b2ce3cfb",
   "metadata": {
    "tags": []
   },
   "outputs": [],
   "source": [
    "import pandas as pd\n",
    "from sqlalchemy import create_engine\n",
    "import time\n",
    "\n",
    "\n",
    "# Establish a connection to the PostgreSQL database\n",
    "engine = create_engine(f'postgresql://postgres:postgres@db:5432/postgres')\n",
    "\n",
    "# Start the timer\n",
    "start_time = time.time()\n",
    "\n",
    "#TODO: your code goes here\n",
    "\n",
    "# End the timer\n",
    "end_time = time.time()\n",
    "\n",
    "# Calculate the duration for loading\n",
    "duration = end_time - start_time\n",
    "print(f'Time taken: {duration} seconds')\n",
    "\n",
    "# Print the loaded data\n",
    "\n"
   ]
  },
  {
   "cell_type": "markdown",
   "id": "be3a91d9-6237-4b86-b884-7ac188b8a362",
   "metadata": {},
   "source": [
    "#### Comparison"
   ]
  },
  {
   "cell_type": "markdown",
   "id": "67e0d506-0394-456d-8990-9a16fec090db",
   "metadata": {},
   "source": [
    "Q14. (5 pts) Can you compare the runtime of SQL vs. Pandas to produce the dataset and discuss why they are different?"
   ]
  },
  {
   "cell_type": "markdown",
   "id": "6d31aa94-25b3-462f-8d68-c0c3d9962f52",
   "metadata": {},
   "source": [
    "Q15.(5 pts) What can we do to further accelerate the SQL query to get the 1990 movies dataset? Write a new code cell with this improvement. Has the runtime improved?"
   ]
  },
  {
   "cell_type": "code",
   "execution_count": null,
   "id": "dcf1b5e8-8af6-481f-a0f8-4e6e6bfb8d33",
   "metadata": {},
   "outputs": [],
   "source": []
  }
 ],
 "metadata": {
  "kernelspec": {
   "display_name": "Python 3 (ipykernel)",
   "language": "python",
   "name": "python3"
  },
  "language_info": {
   "codemirror_mode": {
    "name": "ipython",
    "version": 3
   },
   "file_extension": ".py",
   "mimetype": "text/x-python",
   "name": "python",
   "nbconvert_exporter": "python",
   "pygments_lexer": "ipython3",
   "version": "3.8.13"
  }
 },
 "nbformat": 4,
 "nbformat_minor": 5
}
